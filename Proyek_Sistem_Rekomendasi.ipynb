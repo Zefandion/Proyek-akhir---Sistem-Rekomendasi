{
  "nbformat": 4,
  "nbformat_minor": 0,
  "metadata": {
    "colab": {
      "provenance": [],
      "gpuType": "T4"
    },
    "kernelspec": {
      "name": "python3",
      "display_name": "Python 3"
    },
    "language_info": {
      "name": "python"
    },
    "accelerator": "GPU"
  },
  "cells": [
    {
      "cell_type": "markdown",
      "source": [
        "Note: Pendekatan utama yang dipilih adalah Collaborative Filtering, akan tetapi di sini saya akan membuat menggunakan keduanya untuk mencoba dan membandingkan serta memberikan penjelasan dan kesimpulan berdasarkan keduanya di akhir."
      ],
      "metadata": {
        "id": "26suhVvMK9xh"
      }
    },
    {
      "cell_type": "markdown",
      "source": [
        "# Import Library"
      ],
      "metadata": {
        "id": "x-WgdOHMVHI5"
      }
    },
    {
      "cell_type": "code",
      "execution_count": 1,
      "metadata": {
        "id": "DTNx9pHZU9Do"
      },
      "outputs": [],
      "source": [
        "# Import Library\n",
        "import pandas as pd\n",
        "import numpy as np\n",
        "import matplotlib.pyplot as plt\n",
        "import seaborn as sns\n",
        "from sklearn.feature_extraction.text import TfidfVectorizer\n",
        "from sklearn.metrics.pairwise import cosine_similarity\n",
        "from scipy.sparse import csr_matrix\n",
        "from sklearn.neighbors import NearestNeighbors\n",
        "from sklearn.model_selection import train_test_split\n",
        "from sklearn.metrics import mean_squared_error\n",
        "import re\n",
        "import warnings\n",
        "\n",
        "# TensorFlow dan Keras\n",
        "import tensorflow as tf\n",
        "from tensorflow import keras\n",
        "from tensorflow.keras import layers\n",
        "\n",
        "# Suppress all warnings\n",
        "warnings.filterwarnings('ignore')"
      ]
    },
    {
      "cell_type": "markdown",
      "source": [
        "# Data Loading"
      ],
      "metadata": {
        "id": "GDJAw34zXMzh"
      }
    },
    {
      "cell_type": "markdown",
      "source": [
        "Sumber dataset: https://www.kaggle.com/datasets/CooperUnion/anime-recommendations-database"
      ],
      "metadata": {
        "id": "QPMS-dojuLDJ"
      }
    },
    {
      "cell_type": "code",
      "source": [
        "# Load dataset\n",
        "anime = pd.read_csv('anime.csv')\n",
        "\n",
        "# Menampilkan 5 data teratas\n",
        "print(\"5 data teratas dari dataset anime:\")\n",
        "print(anime.head())\n",
        "\n",
        "# Load dataset\n",
        "rating = pd.read_csv('rating.csv', on_bad_lines='skip')\n",
        "\n",
        "# Menampilkan 5 data teratas\n",
        "print(\"\\n5 data teratas dari dataset rating:\")\n",
        "print(rating.head())"
      ],
      "metadata": {
        "colab": {
          "base_uri": "https://localhost:8080/"
        },
        "id": "zUQuz0BvXG_R",
        "outputId": "e529ee74-8a9b-4dc1-bfd1-0149da1550f2"
      },
      "execution_count": 2,
      "outputs": [
        {
          "output_type": "stream",
          "name": "stdout",
          "text": [
            "5 data teratas dari dataset anime:\n",
            "   anime_id                              name  \\\n",
            "0     32281                    Kimi no Na wa.   \n",
            "1      5114  Fullmetal Alchemist: Brotherhood   \n",
            "2     28977                          Gintama°   \n",
            "3      9253                       Steins;Gate   \n",
            "4      9969                     Gintama&#039;   \n",
            "\n",
            "                                               genre   type episodes  rating  \\\n",
            "0               Drama, Romance, School, Supernatural  Movie        1    9.37   \n",
            "1  Action, Adventure, Drama, Fantasy, Magic, Mili...     TV       64    9.26   \n",
            "2  Action, Comedy, Historical, Parody, Samurai, S...     TV       51    9.25   \n",
            "3                                   Sci-Fi, Thriller     TV       24    9.17   \n",
            "4  Action, Comedy, Historical, Parody, Samurai, S...     TV       51    9.16   \n",
            "\n",
            "   members  \n",
            "0   200630  \n",
            "1   793665  \n",
            "2   114262  \n",
            "3   673572  \n",
            "4   151266  \n",
            "\n",
            "5 data teratas dari dataset rating:\n",
            "   user_id  anime_id  rating\n",
            "0        1        20      -1\n",
            "1        1        24      -1\n",
            "2        1        79      -1\n",
            "3        1       226      -1\n",
            "4        1       241      -1\n"
          ]
        }
      ]
    },
    {
      "cell_type": "markdown",
      "source": [
        "# Data Understanding"
      ],
      "metadata": {
        "id": "9ygU-tcpXO04"
      }
    },
    {
      "cell_type": "markdown",
      "source": [
        "Tahap Data Understanding bertujuan untuk memperoleh pemahaman awal tentang struktur,\n",
        "tipe data, dan karakteristik umum dari dataset yang akan digunakan.\n",
        "Ini adalah langkah krusial sebelum melakukan preprocessing atau pemodelan."
      ],
      "metadata": {
        "id": "O4AIwh0VXUwh"
      }
    },
    {
      "cell_type": "code",
      "source": [
        "print('Jumlah data anime yang tersedia: ', len(anime.anime_id.unique()))\n",
        "print('Jumlah data rating anime: ', len(rating.anime_id.unique()))\n",
        "\n",
        "print(\"\\n--- Informasi Dataset Anime ---\")\n",
        "anime.info()\n",
        "print(\"\\nStatistik Deskriptif Dataset Anime:\")\n",
        "print(anime.describe())\n",
        "\n",
        "print(\"\\n--- Informasi Dataset Rating ---\")\n",
        "rating.info()\n",
        "print(\"\\nStatistik Deskriptif Dataset Rating:\")\n",
        "print(rating.describe())\n",
        "\n",
        "print('\\nJumlah user_id: ', len(rating.user_id.unique()))\n",
        "print('Jumlah anime_id unik dalam dataset rating: ', len(rating.anime_id.unique()))\n",
        "print('Jumlah total data rating: ', len(rating))"
      ],
      "metadata": {
        "colab": {
          "base_uri": "https://localhost:8080/"
        },
        "id": "1FLnNBHNXVMI",
        "outputId": "ea10259c-ebe3-41bc-e907-e39dd5ff44a8"
      },
      "execution_count": 3,
      "outputs": [
        {
          "output_type": "stream",
          "name": "stdout",
          "text": [
            "Jumlah data anime yang tersedia:  12294\n",
            "Jumlah data rating anime:  11200\n",
            "\n",
            "--- Informasi Dataset Anime ---\n",
            "<class 'pandas.core.frame.DataFrame'>\n",
            "RangeIndex: 12294 entries, 0 to 12293\n",
            "Data columns (total 7 columns):\n",
            " #   Column    Non-Null Count  Dtype  \n",
            "---  ------    --------------  -----  \n",
            " 0   anime_id  12294 non-null  int64  \n",
            " 1   name      12294 non-null  object \n",
            " 2   genre     12232 non-null  object \n",
            " 3   type      12269 non-null  object \n",
            " 4   episodes  12294 non-null  object \n",
            " 5   rating    12064 non-null  float64\n",
            " 6   members   12294 non-null  int64  \n",
            "dtypes: float64(1), int64(2), object(4)\n",
            "memory usage: 672.5+ KB\n",
            "\n",
            "Statistik Deskriptif Dataset Anime:\n",
            "           anime_id        rating       members\n",
            "count  12294.000000  12064.000000  1.229400e+04\n",
            "mean   14058.221653      6.473902  1.807134e+04\n",
            "std    11455.294701      1.026746  5.482068e+04\n",
            "min        1.000000      1.670000  5.000000e+00\n",
            "25%     3484.250000      5.880000  2.250000e+02\n",
            "50%    10260.500000      6.570000  1.550000e+03\n",
            "75%    24794.500000      7.180000  9.437000e+03\n",
            "max    34527.000000     10.000000  1.013917e+06\n",
            "\n",
            "--- Informasi Dataset Rating ---\n",
            "<class 'pandas.core.frame.DataFrame'>\n",
            "RangeIndex: 7813737 entries, 0 to 7813736\n",
            "Data columns (total 3 columns):\n",
            " #   Column    Dtype\n",
            "---  ------    -----\n",
            " 0   user_id   int64\n",
            " 1   anime_id  int64\n",
            " 2   rating    int64\n",
            "dtypes: int64(3)\n",
            "memory usage: 178.8 MB\n",
            "\n",
            "Statistik Deskriptif Dataset Rating:\n",
            "            user_id      anime_id        rating\n",
            "count  7.813737e+06  7.813737e+06  7.813737e+06\n",
            "mean   3.672796e+04  8.909072e+03  6.144030e+00\n",
            "std    2.099795e+04  8.883950e+03  3.727800e+00\n",
            "min    1.000000e+00  1.000000e+00 -1.000000e+00\n",
            "25%    1.897400e+04  1.240000e+03  6.000000e+00\n",
            "50%    3.679100e+04  6.213000e+03  7.000000e+00\n",
            "75%    5.475700e+04  1.409300e+04  9.000000e+00\n",
            "max    7.351600e+04  3.451900e+04  1.000000e+01\n",
            "\n",
            "Jumlah user_id:  73515\n",
            "Jumlah anime_id unik dalam dataset rating:  11200\n",
            "Jumlah total data rating:  7813737\n"
          ]
        }
      ]
    },
    {
      "cell_type": "markdown",
      "source": [
        "# Univariate Exploratory Data Analysis (EDA)"
      ],
      "metadata": {
        "id": "2YDgY09BXkeQ"
      }
    },
    {
      "cell_type": "markdown",
      "source": [
        "Univariate EDA berfokus pada analisis dan visualisasi distribusi setiap variabel secara individual.\n",
        "Tujuannya adalah untuk memahami karakteristik intrinsik dari setiap kolom,\n",
        "mengidentifikasi pola, outlier, atau masalah data lainnya sebelum pemodelan."
      ],
      "metadata": {
        "id": "OnOxekY6XmqA"
      }
    },
    {
      "cell_type": "markdown",
      "source": [
        "## Distribusi rating di dataset anime (global rating)"
      ],
      "metadata": {
        "id": "LYPlwnYnX5bw"
      }
    },
    {
      "cell_type": "code",
      "source": [
        "plt.figure(figsize=(10, 6))\n",
        "sns.histplot(anime['rating'], bins=20, kde=True)\n",
        "plt.title('Distribusi Rating Anime (Global)')\n",
        "plt.xlabel('Rating')\n",
        "plt.ylabel('Jumlah Anime')\n",
        "plt.grid(axis='y', alpha=0.75)\n",
        "plt.show()"
      ],
      "metadata": {
        "colab": {
          "base_uri": "https://localhost:8080/",
          "height": 564
        },
        "id": "VFNdgrW_XnAA",
        "outputId": "d7c886c2-4da0-48b1-e89f-4aa89780db07"
      },
      "execution_count": 4,
      "outputs": [
        {
          "output_type": "display_data",
          "data": {
            "text/plain": [
              "<Figure size 1000x600 with 1 Axes>"
            ],
            "image/png": "[encoded data removed]"
          },
          "metadata": {}
        }
      ]
    },
    {
      "cell_type": "markdown",
      "source": [
        "Sebagian besar anime memiliki rating di atas 6, menunjukkan distribusi yang condong ke kanan (rating tinggi)."
      ],
      "metadata": {
        "id": "nA8nLUXSYBmI"
      }
    },
    {
      "cell_type": "markdown",
      "source": [
        "## Distribusi tipe anime"
      ],
      "metadata": {
        "id": "FWcbCYIMYFQY"
      }
    },
    {
      "cell_type": "code",
      "source": [
        "plt.figure(figsize=(10, 6))\n",
        "sns.countplot(y='type', data=anime, order=anime['type'].value_counts().index)\n",
        "plt.title('Distribusi Tipe Anime')\n",
        "plt.xlabel('Jumlah Anime')\n",
        "plt.ylabel('Tipe')\n",
        "plt.grid(axis='x', alpha=0.75)\n",
        "plt.show()"
      ],
      "metadata": {
        "colab": {
          "base_uri": "https://localhost:8080/",
          "height": 564
        },
        "id": "8aeOgm55YHio",
        "outputId": "7189f814-f99d-4fe9-b95e-92227acbf93f"
      },
      "execution_count": 5,
      "outputs": [
        {
          "output_type": "display_data",
          "data": {
            "text/plain": [
              "<Figure size 1000x600 with 1 Axes>"
            ],
            "image/png": "[encoded data removed]"
          },
          "metadata": {}
        }
      ]
    },
    {
      "cell_type": "markdown",
      "source": [
        " Tipe 'TV' mendominasi dataset, diikuti oleh 'OVA'."
      ],
      "metadata": {
        "id": "ACEa5rzLYKd4"
      }
    },
    {
      "cell_type": "markdown",
      "source": [
        "## Top 10 Genre Anime Terbanyak"
      ],
      "metadata": {
        "id": "aIdXAtq5aGxP"
      }
    },
    {
      "cell_type": "code",
      "source": [
        "# Untuk EDA genre, kita bisa memisahkan genre dan menghitung frekuensinya\n",
        "all_genres = anime['genre'].dropna().str.split(', ').explode().reset_index(drop=True) # Reset index here\n",
        "plt.figure(figsize=(12, 8))\n",
        "sns.countplot(y=all_genres, order=all_genres.value_counts().head(10).index)\n",
        "plt.title('Top 10 Genre Anime Terbanyak')\n",
        "plt.xlabel('Jumlah Anime')\n",
        "plt.ylabel('Genre')\n",
        "plt.grid(axis='x', alpha=0.75)\n",
        "plt.show()"
      ],
      "metadata": {
        "colab": {
          "base_uri": "https://localhost:8080/",
          "height": 718
        },
        "id": "RUGbeyidaQFf",
        "outputId": "5c9af938-27a6-4101-c870-c89350c77d71"
      },
      "execution_count": 6,
      "outputs": [
        {
          "output_type": "display_data",
          "data": {
            "text/plain": [
              "<Figure size 1200x800 with 1 Axes>"
            ],
            "image/png": "[encoded data removed]"
          },
          "metadata": {}
        }
      ]
    },
    {
      "cell_type": "markdown",
      "source": [
        "Genre 'Comedy' mendominasi dataset"
      ],
      "metadata": {
        "id": "MS6iZobDbyf_"
      }
    },
    {
      "cell_type": "markdown",
      "source": [
        "## Distribusi jumlah members (yang menonton/mengikuti anime)"
      ],
      "metadata": {
        "id": "Q4Qmpc_SdEtv"
      }
    },
    {
      "cell_type": "code",
      "source": [
        "plt.figure(figsize=(10, 6))\n",
        "sns.histplot(anime['members'], bins=50, kde=True)\n",
        "plt.title('Distribusi Jumlah Members Anime')\n",
        "plt.xlabel('Jumlah Members')\n",
        "plt.ylabel('Jumlah Anime')\n",
        "plt.grid(axis='y', alpha=0.75)\n",
        "plt.yscale('log') # Menggunakan skala logaritmik karena distribusi sangat miring\n",
        "plt.show()"
      ],
      "metadata": {
        "colab": {
          "base_uri": "https://localhost:8080/",
          "height": 564
        },
        "id": "zFRNbiefdIum",
        "outputId": "ed6b60f5-1bcf-41a8-add9-248fb961a358"
      },
      "execution_count": 7,
      "outputs": [
        {
          "output_type": "display_data",
          "data": {
            "text/plain": [
              "<Figure size 1000x600 with 1 Axes>"
            ],
            "image/png": "[encoded data removed]"
          },
          "metadata": {}
        }
      ]
    },
    {
      "cell_type": "markdown",
      "source": [
        "Mayoritas anime memiliki jumlah members yang relatif kecil, dengan sedikit anime yang sangat populer (jumlah members tinggi)."
      ],
      "metadata": {
        "id": "OifRcJz3dM2-"
      }
    },
    {
      "cell_type": "markdown",
      "source": [
        "## Distribusi rating di dataset rating (user-specific rating)"
      ],
      "metadata": {
        "id": "iJgqeNoRdX6W"
      }
    },
    {
      "cell_type": "code",
      "source": [
        "plt.figure(figsize=(10, 6))\n",
        "sns.histplot(rating['rating'], bins=10, kde=True)\n",
        "plt.title('Distribusi Rating User')\n",
        "plt.xlabel('Rating')\n",
        "plt.ylabel('Jumlah Rating')\n",
        "plt.grid(axis='y', alpha=0.75)\n",
        "plt.show()"
      ],
      "metadata": {
        "colab": {
          "base_uri": "https://localhost:8080/",
          "height": 564
        },
        "id": "VCED2_Gida2u",
        "outputId": "8b16df28-2dd4-4d42-a1fc-3e03f1dd0c70"
      },
      "execution_count": 8,
      "outputs": [
        {
          "output_type": "display_data",
          "data": {
            "text/plain": [
              "<Figure size 1000x600 with 1 Axes>"
            ],
            "image/png": "[encoded data removed]"
          },
          "metadata": {}
        }
      ]
    },
    {
      "cell_type": "markdown",
      "source": [
        "Ada nilai rating -1 yang perlu ditangani, yang mungkin berarti pengguna menonton tetapi tidak memberikan rating."
      ],
      "metadata": {
        "id": "AaCNMRgjdqwW"
      }
    },
    {
      "cell_type": "markdown",
      "source": [
        "Rating positif (1-10) menunjukkan distribusi yang condong ke rating tinggi (6 ke atas)."
      ],
      "metadata": {
        "id": "6gIvjut1drd2"
      }
    },
    {
      "cell_type": "markdown",
      "source": [
        "# Data Preprocessing"
      ],
      "metadata": {
        "id": "_XxAW_jpdtdm"
      }
    },
    {
      "cell_type": "markdown",
      "source": [
        "Tahap Data Preprocessing melibatkan pembersihan dan transformasi data mentah\n",
        "menjadi format yang cocok untuk pemodelan. Ini adalah langkah penting untuk\n",
        "memastikan kualitas data dan kinerja model yang optimal."
      ],
      "metadata": {
        "id": "jIwqx1RPd1x-"
      }
    },
    {
      "cell_type": "code",
      "source": [
        "print(\"--- Pemeriksaan Missing Values Awal ---\")\n",
        "print(\"Missing values di dataset anime:\\n\", anime.isnull().sum())\n",
        "print(\"\\nMissing values di dataset rating:\\n\", rating.isnull().sum())\n",
        "\n",
        "print(\"\\n--- Pemeriksaan Duplikasi Awal ---\")\n",
        "print(\"Jumlah data duplikat di dataset anime:\", anime.duplicated().sum())\n",
        "print(\"Jumlah data duplikat di dataset rating:\", rating.duplicated().sum())"
      ],
      "metadata": {
        "colab": {
          "base_uri": "https://localhost:8080/"
        },
        "id": "VST0bX3Zd5Iu",
        "outputId": "da4f94b6-a6f7-4232-8b0b-7a717c5383a3"
      },
      "execution_count": 9,
      "outputs": [
        {
          "output_type": "stream",
          "name": "stdout",
          "text": [
            "--- Pemeriksaan Missing Values Awal ---\n",
            "Missing values di dataset anime:\n",
            " anime_id      0\n",
            "name          0\n",
            "genre        62\n",
            "type         25\n",
            "episodes      0\n",
            "rating      230\n",
            "members       0\n",
            "dtype: int64\n",
            "\n",
            "Missing values di dataset rating:\n",
            " user_id     0\n",
            "anime_id    0\n",
            "rating      0\n",
            "dtype: int64\n",
            "\n",
            "--- Pemeriksaan Duplikasi Awal ---\n",
            "Jumlah data duplikat di dataset anime: 0\n",
            "Jumlah data duplikat di dataset rating: 1\n"
          ]
        }
      ]
    },
    {
      "cell_type": "markdown",
      "source": [
        "## Penanganan Dataset anime"
      ],
      "metadata": {
        "id": "LbZccK9MfQgW"
      }
    },
    {
      "cell_type": "code",
      "source": [
        "print(\"\\n--- Proses Cleaning Dataset Anime ---\")\n",
        "\n",
        "# Kolom genre (mengisi missing value dengan \"Unknown Genre\")\n",
        "anime['genre'].fillna('Unknown Genre', inplace=True)\n",
        "print(\"Missing values di 'genre' setelah diisi:\", anime['genre'].isnull().sum())\n",
        "\n",
        "# Kolom type (mengisi missing value dengan modus atau \"Unknown Type\")\n",
        "mode_type = anime['type'].mode()\n",
        "if not mode_type.empty:\n",
        "    anime['type'].fillna(mode_type[0], inplace=True)\n",
        "    print(f\"Missing values di 'type' diisi dengan modus: {mode_type[0]}\")\n",
        "else:\n",
        "    anime['type'].fillna('Unknown Type', inplace=True)\n",
        "    print(\"Missing values di 'type' diisi dengan 'Unknown Type' (karena tidak ada modus yang jelas)\")\n",
        "print(\"Missing values di 'type' setelah diisi:\", anime['type'].isnull().sum())\n",
        "\n",
        "# Kolom rating (rating global anime, mengisi missing value dengan median)\n",
        "median_rating_anime = anime['rating'].median()\n",
        "anime['rating'].fillna(median_rating_anime, inplace=True)\n",
        "print(f\"Missing values di 'rating' (anime) diisi dengan median: {median_rating_anime}\")\n",
        "print(\"Missing values di 'rating' (anime) setelah diisi:\", anime['rating'].isnull().sum())\n",
        "\n",
        "print(\"\\nMissing values di anime setelah cleaning:\")\n",
        "print(anime.isnull().sum())"
      ],
      "metadata": {
        "colab": {
          "base_uri": "https://localhost:8080/"
        },
        "id": "Z7dhfAIdfNGW",
        "outputId": "2a0ab40e-3700-4f2e-8824-482a0532c4e1"
      },
      "execution_count": 10,
      "outputs": [
        {
          "output_type": "stream",
          "name": "stdout",
          "text": [
            "\n",
            "--- Proses Cleaning Dataset Anime ---\n",
            "Missing values di 'genre' setelah diisi: 0\n",
            "Missing values di 'type' diisi dengan modus: TV\n",
            "Missing values di 'type' setelah diisi: 0\n",
            "Missing values di 'rating' (anime) diisi dengan median: 6.57\n",
            "Missing values di 'rating' (anime) setelah diisi: 0\n",
            "\n",
            "Missing values di anime setelah cleaning:\n",
            "anime_id    0\n",
            "name        0\n",
            "genre       0\n",
            "type        0\n",
            "episodes    0\n",
            "rating      0\n",
            "members     0\n",
            "dtype: int64\n"
          ]
        }
      ]
    },
    {
      "cell_type": "markdown",
      "source": [
        "## Penanganan Dataset rating"
      ],
      "metadata": {
        "id": "s7ke2Nfafdue"
      }
    },
    {
      "cell_type": "code",
      "source": [
        "print(\"\\n--- Proses Cleaning Dataset Rating ---\")\n",
        "\n",
        "# Menangani Data Duplikat\n",
        "print(f\"\\nJumlah data duplikat di rating sebelum dihapus: {rating.duplicated().sum()}\")\n",
        "rating.drop_duplicates(inplace=True)\n",
        "print(f\"Jumlah data duplikat di rating setelah dihapus: {rating.duplicated().sum()}\")\n",
        "\n",
        "print(\"Bentuk rating setelah cleaning:\", rating.shape)\n",
        "\n",
        "# Penanganan nilai -1 pada kolom 'rating' di dataset `rating`\n",
        "# Nilai -1 diyakini sebagai \"pengguna menonton tapi tidak memberikan rating\".\n",
        "# Untuk model rekomendasi berbasis rating eksplisit, nilai -1 ini tidak informatif.\n",
        "# Kita akan menggantinya dengan NaN (atau menghapusnya) dan kemudian mengimputasi atau menghapusnya.\n",
        "# Pilihan yang lebih baik untuk Collaborative Filtering adalah menghapus rating -1,\n",
        "# karena rating -1 akan memengaruhi perhitungan kesamaan dan prediksi rating secara negatif.\n",
        "print(f\"\\nJumlah rating -1 sebelum dihapus: {len(rating[rating['rating'] == -1])}\")\n",
        "rating = rating[rating['rating'] != -1]\n",
        "print(f\"Jumlah rating -1 setelah dihapus: {len(rating[rating['rating'] == -1])}\")\n",
        "print(\"Bentuk rating setelah menghapus -1:\", rating.shape)"
      ],
      "metadata": {
        "colab": {
          "base_uri": "https://localhost:8080/"
        },
        "id": "xusRb7IBfcDG",
        "outputId": "f0582b9c-492c-47ca-fd3f-b2a2dee02ca0"
      },
      "execution_count": 11,
      "outputs": [
        {
          "output_type": "stream",
          "name": "stdout",
          "text": [
            "\n",
            "--- Proses Cleaning Dataset Rating ---\n",
            "\n",
            "Jumlah data duplikat di rating sebelum dihapus: 1\n",
            "Jumlah data duplikat di rating setelah dihapus: 0\n",
            "Bentuk rating setelah cleaning: (7813736, 3)\n",
            "\n",
            "Jumlah rating -1 sebelum dihapus: 1476496\n",
            "Jumlah rating -1 setelah dihapus: 0\n",
            "Bentuk rating setelah menghapus -1: (6337240, 3)\n"
          ]
        }
      ]
    },
    {
      "cell_type": "markdown",
      "source": [
        "## Menggabungkan dataset anime dan rating"
      ],
      "metadata": {
        "id": "0_729WNRgs11"
      }
    },
    {
      "cell_type": "markdown",
      "source": [
        "menggabungkan anime_id dan nama dari dataset anime ke rating agar rating memiliki informasi nama anime."
      ],
      "metadata": {
        "id": "HXpZZta8gzAd"
      }
    },
    {
      "cell_type": "code",
      "source": [
        "merged_data = pd.merge(rating, anime[['anime_id', 'name', 'genre', 'type']], on='anime_id', how='left')"
      ],
      "metadata": {
        "id": "Ui_qS2hug3g2"
      },
      "execution_count": 12,
      "outputs": []
    },
    {
      "cell_type": "markdown",
      "source": [
        "Periksa apakah ada missing values yang muncul setelah merge (ini mungkin terjadi jika ada anime_id di rating yang tidak ada di anime.csv)\n"
      ],
      "metadata": {
        "id": "Q8DhnIsvhAQl"
      }
    },
    {
      "cell_type": "code",
      "source": [
        "print(\"\\nMissing values di merged_data setelah merge:\")\n",
        "print(merged_data.isnull().sum())"
      ],
      "metadata": {
        "colab": {
          "base_uri": "https://localhost:8080/"
        },
        "id": "a8aqpUagg6ml",
        "outputId": "520749b1-fa85-443b-eb6a-d99e48daafc1"
      },
      "execution_count": 13,
      "outputs": [
        {
          "output_type": "stream",
          "name": "stdout",
          "text": [
            "\n",
            "Missing values di merged_data setelah merge:\n",
            "user_id     0\n",
            "anime_id    0\n",
            "rating      0\n",
            "name        2\n",
            "genre       2\n",
            "type        2\n",
            "dtype: int64\n"
          ]
        }
      ]
    },
    {
      "cell_type": "markdown",
      "source": [
        "Hapus baris yang mungkin memiliki missing 'name', 'genre', atau 'type' setelah merge"
      ],
      "metadata": {
        "id": "08Z-9aYWhGi9"
      }
    },
    {
      "cell_type": "code",
      "source": [
        "merged_data.dropna(subset=['name', 'genre', 'type'], inplace=True)\n",
        "print(\"\\nBentuk merged_data setelah menghapus baris dengan missing info anime:\", merged_data.shape)"
      ],
      "metadata": {
        "colab": {
          "base_uri": "https://localhost:8080/"
        },
        "id": "yEptP9-ShT_W",
        "outputId": "88053e18-7081-4be9-bb4f-ca847031ad11"
      },
      "execution_count": 14,
      "outputs": [
        {
          "output_type": "stream",
          "name": "stdout",
          "text": [
            "\n",
            "Bentuk merged_data setelah menghapus baris dengan missing info anime: (6337238, 6)\n"
          ]
        }
      ]
    },
    {
      "cell_type": "markdown",
      "source": [
        "Ini mengindikasikan bahwa anime_id tersebut tidak ada di dataset 'anime'."
      ],
      "metadata": {
        "id": "G2HUOpvphKhN"
      }
    },
    {
      "cell_type": "markdown",
      "source": [
        "# Data Preparation"
      ],
      "metadata": {
        "id": "EU5sY2lnhjJt"
      }
    },
    {
      "cell_type": "markdown",
      "source": [
        "Tahap Data Preparation fokus pada transformasi data ke format yang spesifik\n",
        "untuk setiap jenis model rekomendasi (Content-Based Filtering dan Collaborative Filtering).\n",
        "Ini termasuk fitur engineering, pembentukan matriks, dan pemisahan data."
      ],
      "metadata": {
        "id": "nn12HXIihlVl"
      }
    },
    {
      "cell_type": "markdown",
      "source": [
        "## Data Preparation untuk Content-Based Filtering"
      ],
      "metadata": {
        "id": "UsFcXhyuhpI9"
      }
    },
    {
      "cell_type": "markdown",
      "source": [
        "Content-Based Filtering akan menggunakan informasi 'genre' dan 'type' dari anime."
      ],
      "metadata": {
        "id": "HeG_knc4hrHl"
      }
    },
    {
      "cell_type": "code",
      "source": [
        "# Gabungkan kolom 'genre' dan 'type' menjadi satu fitur teks\n",
        "# Menggunakan dataset `anime` untuk Content-Based Filtering\n",
        "anime_cbf = anime.copy()\n",
        "anime_cbf['features'] = anime_cbf['genre'] + ' ' + anime_cbf['type']\n",
        "\n",
        "# Hapus karakter khusus dari kolom 'name' untuk meningkatkan kualitas data teks\n",
        "anime_cbf['name'] = anime_cbf['name'].apply(lambda x: re.sub(r'&#\\d+;', '', x))\n",
        "\n",
        "# TF-IDF Vectorization untuk fitur teks\n",
        "# TfidfVectorizer akan mengkonversi koleksi dokumen teks (fitur anime) menjadi matriks fitur TF-IDF.\n",
        "tfidf_vectorizer = TfidfVectorizer(stop_words='english', min_df=3) # min_df=3 untuk mengabaikan kata yang muncul di kurang dari 3 dokumen\n",
        "\n",
        "# Fit dan transform fitur 'genre' dan 'type'\n",
        "tfidf_matrix = tfidf_vectorizer.fit_transform(anime_cbf['features'])\n",
        "\n",
        "print(\"\\nBentuk TF-IDF Matrix (untuk Content-Based Filtering):\", tfidf_matrix.shape)\n",
        "print(\"Jumlah fitur TF-IDF:\", len(tfidf_vectorizer.get_feature_names_out()))"
      ],
      "metadata": {
        "colab": {
          "base_uri": "https://localhost:8080/"
        },
        "id": "1t95AXuUhyut",
        "outputId": "80fe9309-40d1-4b44-b6d2-b1066a9db3ca"
      },
      "execution_count": 15,
      "outputs": [
        {
          "output_type": "stream",
          "name": "stdout",
          "text": [
            "\n",
            "Bentuk TF-IDF Matrix (untuk Content-Based Filtering): (12294, 53)\n",
            "Jumlah fitur TF-IDF: 53\n"
          ]
        }
      ]
    },
    {
      "cell_type": "markdown",
      "source": [
        "## Data Preparation untuk Collaborative Filtering"
      ],
      "metadata": {
        "id": "hopy0AQmjrxN"
      }
    },
    {
      "cell_type": "markdown",
      "source": [
        "Collaborative Filtering akan menggunakan dataset `merged_data` (user_id, anime_id, rating)"
      ],
      "metadata": {
        "id": "aPf4JTlRj1l9"
      }
    },
    {
      "cell_type": "code",
      "source": [
        "# Hitung jumlah rating per user\n",
        "user_counts = merged_data['user_id'].value_counts()\n",
        "# Filter user yang memiliki minimal N rating (misalnya 50 rating)\n",
        "min_ratings_per_user = 50\n",
        "filtered_users = user_counts[user_counts >= min_ratings_per_user].index\n",
        "merged_data_cf_tf = merged_data[merged_data['user_id'].isin(filtered_users)]\n",
        "\n",
        "# Hitung jumlah rating per anime\n",
        "anime_counts = merged_data_cf_tf['anime_id'].value_counts()\n",
        "# Filter anime yang memiliki minimal M rating (misalnya 50 rating)\n",
        "min_ratings_per_anime = 50\n",
        "filtered_anime = anime_counts[anime_counts >= min_ratings_per_anime].index\n",
        "merged_data_cf_tf = merged_data_cf_tf[merged_data_cf_tf['anime_id'].isin(filtered_anime)]\n",
        "\n",
        "print(f\"\\nBentuk dataset untuk Collaborative Filtering (TensorFlow) setelah filtering user dan anime: {merged_data_cf_tf.shape}\")\n",
        "print(f\"Jumlah user unik setelah filtering: {merged_data_cf_tf['user_id'].nunique()}\")\n",
        "print(f\"Jumlah anime unik setelah filtering: {merged_data_cf_tf['anime_id'].nunique()}\")"
      ],
      "metadata": {
        "colab": {
          "base_uri": "https://localhost:8080/"
        },
        "id": "OuQdlHlkkMb9",
        "outputId": "e48ef447-1060-4c2c-ee63-1ff9bf3c86bb"
      },
      "execution_count": 16,
      "outputs": [
        {
          "output_type": "stream",
          "name": "stdout",
          "text": [
            "\n",
            "Bentuk dataset untuk Collaborative Filtering (TensorFlow) setelah filtering user dan anime: (5632316, 6)\n",
            "Jumlah user unik setelah filtering: 32967\n",
            "Jumlah anime unik setelah filtering: 5139\n"
          ]
        }
      ]
    },
    {
      "cell_type": "markdown",
      "source": [
        "Mengodekan user_id dan anime_id menjadi indeks numerik berurutan"
      ],
      "metadata": {
        "id": "_R4hDrhGko8U"
      }
    },
    {
      "cell_type": "code",
      "source": [
        "user_ids = merged_data_cf_tf['user_id'].unique().tolist()\n",
        "anime_ids = merged_data_cf_tf['anime_id'].unique().tolist()\n",
        "\n",
        "user_to_idx = {user_id: idx for idx, user_id in enumerate(user_ids)}\n",
        "anime_to_idx = {anime_id: idx for idx, anime_id in enumerate(anime_ids)}\n",
        "\n",
        "idx_to_user = {idx: user_id for user_id, idx in user_to_idx.items()}\n",
        "idx_to_anime = {idx: anime_id for anime_id, idx in anime_to_idx.items()}\n",
        "\n",
        "merged_data_cf_tf['user_encoded'] = merged_data_cf_tf['user_id'].map(user_to_idx)\n",
        "merged_data_cf_tf['anime_encoded'] = merged_data_cf_tf['anime_id'].map(anime_to_idx)\n",
        "\n",
        "num_users = len(user_ids)\n",
        "num_anime = len(anime_ids)\n",
        "\n",
        "print(f\"\\nTotal user unik yang dienkode: {num_users}\")\n",
        "print(f\"Total anime unik yang dienkode: {num_anime}\")"
      ],
      "metadata": {
        "colab": {
          "base_uri": "https://localhost:8080/"
        },
        "id": "r25avg0ZkpXd",
        "outputId": "37c5284e-2139-498c-e0e9-75d6b416ec2d"
      },
      "execution_count": 17,
      "outputs": [
        {
          "output_type": "stream",
          "name": "stdout",
          "text": [
            "\n",
            "Total user unik yang dienkode: 32967\n",
            "Total anime unik yang dienkode: 5139\n"
          ]
        }
      ]
    },
    {
      "cell_type": "markdown",
      "source": [
        "Normalisasi rating ke skala 0-1 untuk model"
      ],
      "metadata": {
        "id": "EKOtzxkPkye9"
      }
    },
    {
      "cell_type": "code",
      "source": [
        "min_rating = merged_data_cf_tf['rating'].min()\n",
        "max_rating = merged_data_cf_tf['rating'].max()\n",
        "merged_data_cf_tf['rating'] = (merged_data_cf_tf['rating'] - min_rating) / (max_rating - min_rating)\n",
        "print(f\"\\nRating dinormalisasi ke rentang [{min_rating:.2f}, {max_rating:.2f}] menjadi [0, 1]\")"
      ],
      "metadata": {
        "colab": {
          "base_uri": "https://localhost:8080/"
        },
        "id": "FFdSnuGQk2GF",
        "outputId": "11142895-db33-4845-9106-2c128a37c34b"
      },
      "execution_count": 18,
      "outputs": [
        {
          "output_type": "stream",
          "name": "stdout",
          "text": [
            "\n",
            "Rating dinormalisasi ke rentang [1.00, 10.00] menjadi [0, 1]\n"
          ]
        }
      ]
    },
    {
      "cell_type": "markdown",
      "source": [
        "Pisahkan data untuk training dan testing"
      ],
      "metadata": {
        "id": "iYf5JTXhk1EM"
      }
    },
    {
      "cell_type": "code",
      "source": [
        "X = merged_data_cf_tf[['user_encoded', 'anime_encoded']].values\n",
        "y = merged_data_cf_tf['rating'].values\n",
        "\n",
        "X_train, X_test, y_train, y_test = train_test_split(X, y, test_size=0.2, random_state=42)\n",
        "\n",
        "print(f\"\\nUkuran data training (X_train, y_train): {X_train.shape}, {y_train.shape}\")\n",
        "print(f\"Ukuran data testing (X_test, y_test): {X_test.shape}, {y_test.shape}\")"
      ],
      "metadata": {
        "colab": {
          "base_uri": "https://localhost:8080/"
        },
        "id": "xP-Fq19Vk8wV",
        "outputId": "b4bd3157-88c4-44c0-a49d-5618dc72a82f"
      },
      "execution_count": 19,
      "outputs": [
        {
          "output_type": "stream",
          "name": "stdout",
          "text": [
            "\n",
            "Ukuran data training (X_train, y_train): (4505852, 2), (4505852,)\n",
            "Ukuran data testing (X_test, y_test): (1126464, 2), (1126464,)\n"
          ]
        }
      ]
    },
    {
      "cell_type": "markdown",
      "source": [
        "# Model Development dengan Content-Based Filtering"
      ],
      "metadata": {
        "id": "RLHhkDcdlDot"
      }
    },
    {
      "cell_type": "markdown",
      "source": [
        "Content-Based Filtering merekomendasikan item kepada pengguna berdasarkan\n",
        "atribut-atribut item itu sendiri dan preferensi masa lalu pengguna terhadap atribut tersebut.\n",
        "Di sini, kita akan menghitung kemiripan antar anime berdasarkan 'genre' dan 'type' mereka."
      ],
      "metadata": {
        "id": "q1yD3bcDlHfM"
      }
    },
    {
      "cell_type": "markdown",
      "source": [
        "## Proses Training: Perhitungan Cosine Similarity"
      ],
      "metadata": {
        "id": "J7kzjq6olL6E"
      }
    },
    {
      "cell_type": "code",
      "source": [
        "print(\"\\n--- Proses Training Content-Based Filtering: Menghitung Cosine Similarity ---\")\n",
        "cosine_sim = cosine_similarity(tfidf_matrix)\n",
        "\n",
        "print(\"Bentuk Cosine Similarity Matrix:\", cosine_sim.shape)\n",
        "\n",
        "# Buat DataFrame dari cosine similarity untuk kemudahan indexing\n",
        "cosine_sim_df = pd.DataFrame(cosine_sim, index=anime_cbf['name'], columns=anime_cbf['name'])\n",
        "\n",
        "print(\"\\nContoh Cosine Similarity untuk 'Kimi no Na wa.':\")\n",
        "print(cosine_sim_df['Kimi no Na wa.'].sort_values(ascending=False).head(10))\n",
        "\n",
        "# Fungsi rekomendasi Content-Based Filtering\n",
        "def content_based_recommendations(anime_name, num_recommendations=10):\n",
        "    \"\"\"\n",
        "    Memberikan rekomendasi anime berdasarkan kemiripan konten.\n",
        "\n",
        "    Args:\n",
        "        anime_name (str): Nama anime yang ingin dicari rekomendasinya.\n",
        "        num_recommendations (int): Jumlah rekomendasi yang diinginkan.\n",
        "\n",
        "    Returns:\n",
        "        pd.DataFrame: DataFrame berisi nama anime yang direkomendasikan beserta ratingnya.\n",
        "    \"\"\"\n",
        "    if anime_name not in anime_cbf['name'].values:\n",
        "        print(f\"Anime '{anime_name}' tidak ditemukan dalam dataset.\")\n",
        "        return pd.DataFrame()\n",
        "\n",
        "    idx = anime_cbf[anime_cbf['name'] == anime_name].index[0]\n",
        "    sim_scores = list(enumerate(cosine_sim[idx]))\n",
        "    sim_scores = sorted(sim_scores, key=lambda x: x[1], reverse=True)\n",
        "    sim_scores = sim_scores[1:num_recommendations+1]\n",
        "    anime_indices = [i[0] for i in sim_scores]\n",
        "\n",
        "    recommended_anime = anime_cbf.iloc[anime_indices][['name', 'genre', 'type', 'rating', 'members']]\n",
        "    return recommended_anime\n",
        "\n",
        "print(\"\\n--- Demonstrasi Rekomendasi Content-Based Filtering ---\")\n",
        "recommended_anime_cbf = content_based_recommendations('Fullmetal Alchemist: Brotherhood', 10)\n",
        "print(\"Rekomendasi untuk 'Fullmetal Alchemist: Brotherhood':\")\n",
        "print(recommended_anime_cbf)\n",
        "\n",
        "print(\"\\nRekomendasi untuk 'Naruto':\")\n",
        "recommended_anime_naruto = content_based_recommendations('Naruto', 10)\n",
        "print(recommended_anime_naruto)"
      ],
      "metadata": {
        "colab": {
          "base_uri": "https://localhost:8080/"
        },
        "id": "GIEyYFkmlT21",
        "outputId": "f541eabb-2b89-4bc6-9ea8-3ebd618a2a18"
      },
      "execution_count": 20,
      "outputs": [
        {
          "output_type": "stream",
          "name": "stdout",
          "text": [
            "\n",
            "--- Proses Training Content-Based Filtering: Menghitung Cosine Similarity ---\n",
            "Bentuk Cosine Similarity Matrix: (12294, 12294)\n",
            "\n",
            "Contoh Cosine Similarity untuk 'Kimi no Na wa.':\n",
            "name\n",
            "Kimi no Na wa.                                           1.000000\n",
            "Aura: Maryuuin Kouga Saigo no Tatakai                    0.961543\n",
            "Harmonie                                                 0.891655\n",
            "Air Movie                                                0.877767\n",
            "Wind: A Breath of Heart (TV)                             0.873937\n",
            "Wind: A Breath of Heart OVA                              0.867920\n",
            "Kokoro ga Sakebitagatterunda.                            0.864523\n",
            "Suki ni Naru Sono Shunkan wo.: Kokuhaku Jikkou Iinkai    0.820877\n",
            "Clannad Movie                                            0.789141\n",
            "Shakugan no Shana II (Second)                            0.769155\n",
            "Name: Kimi no Na wa., dtype: float64\n",
            "\n",
            "--- Demonstrasi Rekomendasi Content-Based Filtering ---\n",
            "Rekomendasi untuk 'Fullmetal Alchemist: Brotherhood':\n",
            "                                                name  \\\n",
            "200                              Fullmetal Alchemist   \n",
            "1558   Fullmetal Alchemist: The Sacred Star of Milos   \n",
            "402        Fullmetal Alchemist: Brotherhood Specials   \n",
            "4264                                  Tide-Line Blue   \n",
            "101                       Magi: The Kingdom of Magic   \n",
            "268                     Magi: The Labyrinth of Magic   \n",
            "290                      Magi: Sinbad no Bouken (TV)   \n",
            "795                   Densetsu no Yuusha no Densetsu   \n",
            "10953          Chain Chronicle: Haecceitas no Hikari   \n",
            "879              Tales of Vesperia: The First Strike   \n",
            "\n",
            "                                                   genre     type  rating  \\\n",
            "200    Action, Adventure, Comedy, Drama, Fantasy, Mag...       TV    8.33   \n",
            "1558   Action, Adventure, Comedy, Drama, Fantasy, Mag...    Movie    7.50   \n",
            "402    Adventure, Drama, Fantasy, Magic, Military, Sh...  Special    8.11   \n",
            "4264         Action, Adventure, Drama, Military, Shounen       TV    6.77   \n",
            "101           Action, Adventure, Fantasy, Magic, Shounen       TV    8.50   \n",
            "268           Action, Adventure, Fantasy, Magic, Shounen       TV    8.24   \n",
            "290           Action, Adventure, Fantasy, Magic, Shounen       TV    8.22   \n",
            "795           Action, Adventure, Fantasy, Magic, Shounen       TV    7.83   \n",
            "10953         Action, Adventure, Fantasy, Magic, Shounen       TV    6.57   \n",
            "879          Action, Adventure, Fantasy, Magic, Military    Movie    7.79   \n",
            "\n",
            "       members  \n",
            "200     600384  \n",
            "1558     87944  \n",
            "402      67962  \n",
            "4264      4670  \n",
            "101     245026  \n",
            "268     317513  \n",
            "290      73480  \n",
            "795     130689  \n",
            "10953     5678  \n",
            "879      30524  \n",
            "\n",
            "Rekomendasi untuk 'Naruto':\n",
            "                                                   name  \\\n",
            "841                                              Naruto   \n",
            "1343                                        Naruto x UT   \n",
            "1796                                     Rekka no Honoo   \n",
            "486                            Boruto: Naruto the Movie   \n",
            "1472        Naruto: Shippuuden Movie 4 - The Lost Tower   \n",
            "1573  Naruto: Shippuuden Movie 3 - Hi no Ishi wo Tsu...   \n",
            "2997  Naruto Soyokazeden Movie: Naruto to Mashin to ...   \n",
            "2342                             Kurokami The Animation   \n",
            "2852                                       Project ARMS   \n",
            "6163                                          Wolverine   \n",
            "\n",
            "                                                  genre   type  rating  \\\n",
            "841   Action, Comedy, Martial Arts, Shounen, Super P...     TV    7.81   \n",
            "1343  Action, Comedy, Martial Arts, Shounen, Super P...    OVA    7.58   \n",
            "1796  Action, Adventure, Martial Arts, Shounen, Supe...     TV    7.44   \n",
            "486   Action, Comedy, Martial Arts, Shounen, Super P...  Movie    8.03   \n",
            "1472  Action, Comedy, Martial Arts, Shounen, Super P...  Movie    7.53   \n",
            "1573  Action, Comedy, Martial Arts, Shounen, Super P...  Movie    7.50   \n",
            "2997  Action, Comedy, Martial Arts, Shounen, Super P...  Movie    7.11   \n",
            "2342                  Action, Martial Arts, Super Power     TV    7.29   \n",
            "2852                  Action, Martial Arts, Super Power     TV    7.15   \n",
            "6163                  Action, Martial Arts, Super Power     TV    6.24   \n",
            "\n",
            "      members  \n",
            "841    683297  \n",
            "1343    23465  \n",
            "1796    35258  \n",
            "486     74690  \n",
            "1472    84527  \n",
            "1573    83515  \n",
            "2997    25174  \n",
            "2342    72750  \n",
            "2852     6903  \n",
            "6163    14989  \n"
          ]
        }
      ]
    },
    {
      "cell_type": "markdown",
      "source": [
        "## Evaluasi Model Content-Based Filtering"
      ],
      "metadata": {
        "id": "lDChFj7grfKT"
      }
    },
    {
      "cell_type": "code",
      "source": [
        "print(\"\\n--- Evaluasi Model Content-Based Filtering (Kualitatif) ---\")\n",
        "print(\"\"\"\n",
        "Evaluasi Content-Based Filtering dilakukan secara kualitatif dengan memeriksa relevansi rekomendasi.\n",
        "1.  **Rekomendasi untuk 'Fullmetal Alchemist: Brotherhood':**\n",
        "    Anime seperti 'Fullmetal Alchemist' (original), ' Fullmetal Alchemist: The Sacred Star of Milos  ',\n",
        "    'Fullmetal Alchemist: Brotherhood Specials' muncul. Ini masuk akal karena mereka seringkali memiliki genre\n",
        "    'Action', 'Adventure', 'Fantasy' yang serupa.\n",
        "\n",
        "2.  **Rekomendasi untuk 'Naruto':**\n",
        "    Anime seperti 'Naruto x UT', 'Naruto: Shippuuden Movie 4 - The Lost Tower', 'Boruto: Naruto the Movie' muncul. Ini sangat relevan\n",
        "    karena ketiganya adalah anime shounen yang sangat populer dan sering dibandingkan.\n",
        "\n",
        "Kesimpulan: Model Content-Based Filtering bekerja dengan baik dalam menemukan anime\n",
        "dengan fitur genre dan tipe yang sangat mirip, menunjukkan relevansi yang tinggi.\n",
        "Namun, model ini mungkin kurang mampu merekomendasikan anime yang berbeda genre tetapi disukai\n",
        "oleh pengguna dengan selera yang kompleks (kurang serendipity).\n",
        "\"\"\")"
      ],
      "metadata": {
        "colab": {
          "base_uri": "https://localhost:8080/"
        },
        "id": "2Mk-leexrfqT",
        "outputId": "511d5e3d-fce0-43ad-ce12-63447671a230"
      },
      "execution_count": 21,
      "outputs": [
        {
          "output_type": "stream",
          "name": "stdout",
          "text": [
            "\n",
            "--- Evaluasi Model Content-Based Filtering (Kualitatif) ---\n",
            "\n",
            "Evaluasi Content-Based Filtering dilakukan secara kualitatif dengan memeriksa relevansi rekomendasi.\n",
            "1.  **Rekomendasi untuk 'Fullmetal Alchemist: Brotherhood':**\n",
            "    Anime seperti 'Fullmetal Alchemist' (original), ' Fullmetal Alchemist: The Sacred Star of Milos  ',\n",
            "    'Fullmetal Alchemist: Brotherhood Specials' muncul. Ini masuk akal karena mereka seringkali memiliki genre\n",
            "    'Action', 'Adventure', 'Fantasy' yang serupa.\n",
            "\n",
            "2.  **Rekomendasi untuk 'Naruto':**\n",
            "    Anime seperti 'Naruto x UT', 'Naruto: Shippuuden Movie 4 - The Lost Tower', 'Boruto: Naruto the Movie' muncul. Ini sangat relevan\n",
            "    karena ketiganya adalah anime shounen yang sangat populer dan sering dibandingkan.\n",
            "\n",
            "Kesimpulan: Model Content-Based Filtering bekerja dengan baik dalam menemukan anime\n",
            "dengan fitur genre dan tipe yang sangat mirip, menunjukkan relevansi yang tinggi.\n",
            "Namun, model ini mungkin kurang mampu merekomendasikan anime yang berbeda genre tetapi disukai\n",
            "oleh pengguna dengan selera yang kompleks (kurang serendipity).\n",
            "\n"
          ]
        }
      ]
    },
    {
      "cell_type": "markdown",
      "source": [
        "## Evaluasi Model Content-Based Filtering (Precision@K dan Recall@K)"
      ],
      "metadata": {
        "id": "BqVbGKv6I3uv"
      }
    },
    {
      "cell_type": "code",
      "source": [
        "def calculate_precision_recall_at_k_cbf(anime_name, k, top_recommendations_df, original_df):\n",
        "    \"\"\"\n",
        "    Menghitung Precision@K dan Recall@K untuk Content-Based Filtering.\n",
        "    Asumsi relevansi: Anime rekomendasi memiliki setidaknya satu genre yang sama\n",
        "    dengan genre anime input.\n",
        "\n",
        "    Args:\n",
        "        anime_name (str): Nama anime input.\n",
        "        k (int): Jumlah rekomendasi teratas yang dipertimbangkan.\n",
        "        top_recommendations_df (pd.DataFrame): DataFrame hasil rekomendasi top-K.\n",
        "        original_df (pd.DataFrame): DataFrame anime asli (anime_cbf) untuk mendapatkan genre.\n",
        "\n",
        "    Returns:\n",
        "        tuple: (precision_at_k, recall_at_k)\n",
        "    \"\"\"\n",
        "    if anime_name not in original_df['name'].values:\n",
        "        return 0.0, 0.0\n",
        "\n",
        "    # Genre dari anime input\n",
        "    input_anime_genres_str = original_df[original_df['name'] == anime_name]['genre'].iloc[0]\n",
        "    input_anime_genres = set(input_anime_genres_str.replace(' ', '').split(',')) # Membersihkan spasi\n",
        "\n",
        "    if 'UnknownGenre' in input_anime_genres and len(input_anime_genres) == 1:\n",
        "        print(f\"Peringatan: Anime '{anime_name}' hanya memiliki genre 'Unknown Genre'. Relevansi mungkin sulit diukur untuk Precision/Recall.\")\n",
        "        return 0.0, 0.0\n",
        "\n",
        "    # Identifikasi rekomendasi relevan\n",
        "    relevant_recommendations = 0\n",
        "    # Pastikan top_recommendations_df tidak kosong\n",
        "    if not top_recommendations_df.empty:\n",
        "        for _, row in top_recommendations_df.head(k).iterrows():\n",
        "            if 'genre' in row and pd.notna(row['genre']):\n",
        "                rec_anime_genres = set(str(row['genre']).replace(' ', '').split(',')) # Membersihkan spasi\n",
        "                # Jika ada setidaknya satu genre yang sama, anggap relevan\n",
        "                if len(input_anime_genres.intersection(rec_anime_genres)) > 0:\n",
        "                    relevant_recommendations += 1\n",
        "\n",
        "    # Precision@K\n",
        "    precision_at_k = relevant_recommendations / k if k > 0 else 0.0\n",
        "\n",
        "    # Untuk Recall@K, kita perlu \"total item relevan\".\n",
        "    # Ini didefinisikan sebagai semua anime di dataset 'original_df' (kecuali anime input itu sendiri)\n",
        "    # yang memiliki setidaknya satu genre yang sama dengan anime input.\n",
        "    total_relevant_items = 0\n",
        "    for idx, original_row in original_df.iterrows():\n",
        "        if original_row['name'] == anime_name: # Lewati anime input\n",
        "            continue\n",
        "        if pd.notna(original_row['genre']):\n",
        "            current_anime_genres = set(str(original_row['genre']).replace(' ', '').split(','))\n",
        "            if len(input_anime_genres.intersection(current_anime_genres)) > 0:\n",
        "                total_relevant_items += 1\n",
        "\n",
        "    # Jika total_relevant_items adalah 0, maka recall juga 0 untuk menghindari pembagian dengan nol.\n",
        "    recall_at_k = relevant_recommendations / total_relevant_items if total_relevant_items > 0 else 0.0\n",
        "\n",
        "    return precision_at_k, recall_at_k\n",
        "\n",
        "print(\"\\n--- Evaluasi Kuantitatif Content-Based Filtering (Precision@K & Recall@K) ---\")\n",
        "\n",
        "# Contoh evaluasi untuk 'Fullmetal Alchemist: Brotherhood'\n",
        "anime_input_cbf_eval = 'Fullmetal Alchemist: Brotherhood'\n",
        "k_value_cbf_eval = 10\n",
        "recommended_df_cbf_eval = content_based_recommendations(anime_input_cbf_eval, k_value_cbf_eval)\n",
        "precision_cbf_val, recall_cbf_val = calculate_precision_recall_at_k_cbf(anime_input_cbf_eval, k_value_cbf_eval, recommended_df_cbf_eval, anime_cbf)\n",
        "print(f\"Untuk '{anime_input_cbf_eval}' dengan K={k_value_cbf_eval}:\")\n",
        "print(f\"  Precision@{k_value_cbf_eval}: {precision_cbf_val:.4f}\")\n",
        "print(f\"  Recall@{k_value_cbf_eval}: {recall_cbf_val:.4f}\")\n",
        "\n",
        "# Contoh evaluasi untuk 'Naruto'\n",
        "anime_input_cbf_eval_2 = 'Naruto'\n",
        "k_value_cbf_eval_2 = 10\n",
        "recommended_df_cbf_eval_2 = content_based_recommendations(anime_input_cbf_eval_2, k_value_cbf_eval_2)\n",
        "precision_cbf_val_2, recall_cbf_val_2 = calculate_precision_recall_at_k_cbf(anime_input_cbf_eval_2, k_value_cbf_eval_2, recommended_df_cbf_eval_2, anime_cbf)\n",
        "print(f\"\\nUntuk '{anime_input_cbf_eval_2}' dengan K={k_value_cbf_eval_2}:\")\n",
        "print(f\"  Precision@{k_value_cbf_eval_2}: {precision_cbf_val_2:.4f}\")\n",
        "print(f\"  Recall@{k_value_cbf_eval_2}: {recall_cbf_val_2:.4f}\")"
      ],
      "metadata": {
        "colab": {
          "base_uri": "https://localhost:8080/"
        },
        "id": "Hw05-BZFI5Rt",
        "outputId": "f4173532-04ee-4d02-d0ee-00fc3eb2b0ab"
      },
      "execution_count": 23,
      "outputs": [
        {
          "output_type": "stream",
          "name": "stdout",
          "text": [
            "\n",
            "--- Evaluasi Kuantitatif Content-Based Filtering (Precision@K & Recall@K) ---\n",
            "Untuk 'Fullmetal Alchemist: Brotherhood' dengan K=10:\n",
            "  Precision@10: 1.0000\n",
            "  Recall@10: 0.0014\n",
            "\n",
            "Untuk 'Naruto' dengan K=10:\n",
            "  Precision@10: 1.0000\n",
            "  Recall@10: 0.0014\n"
          ]
        }
      ]
    },
    {
      "cell_type": "markdown",
      "source": [
        "# Model Development dengan Collaborative Filtering"
      ],
      "metadata": {
        "id": "w9KPG47hllCd"
      }
    },
    {
      "cell_type": "markdown",
      "source": [
        "Collaborative Filtering merekomendasikan item kepada pengguna berdasarkan\n",
        "kesamaan pola perilaku pengguna lain (user-based) atau kesamaan pola interaksi antar item (item-based).\n",
        "Di sini, kita akan menggunakan pendekatan Matrix Factorization dengan TensorFlow/Keras\n",
        "untuk memprediksi rating yang akan diberikan user ke anime."
      ],
      "metadata": {
        "id": "Mbda8OHBllh9"
      }
    },
    {
      "cell_type": "markdown",
      "source": [
        "## Definisikan model Matrix Factorization"
      ],
      "metadata": {
        "id": "kWExzrELtCKC"
      }
    },
    {
      "cell_type": "code",
      "source": [
        "class RecommenderNet(keras.Model):\n",
        "    def __init__(self, num_users, num_anime, embedding_size, **kwargs):\n",
        "        super(RecommenderNet, self).__init__(**kwargs)\n",
        "        self.num_users = num_users\n",
        "        self.num_anime = num_anime\n",
        "        self.embedding_size = embedding_size\n",
        "        self.user_embedding = layers.Embedding(\n",
        "            num_users,\n",
        "            embedding_size,\n",
        "            embeddings_initializer='he_normal',\n",
        "            embeddings_regularizer=keras.regularizers.l2(1e-6) # Regularisasi L2 untuk mencegah overfitting\n",
        "        )\n",
        "        self.user_bias = layers.Embedding(num_users, 1)\n",
        "        self.anime_embedding = layers.Embedding(\n",
        "            num_anime,\n",
        "            embedding_size,\n",
        "            embeddings_initializer='he_normal',\n",
        "            embeddings_regularizer=keras.regularizers.l2(1e-6) # Regularisasi L2\n",
        "        )\n",
        "        self.anime_bias = layers.Embedding(num_anime, 1)\n",
        "\n",
        "    def call(self, inputs):\n",
        "        user_vector = self.user_embedding(inputs[:, 0])  # Embedding user\n",
        "        user_bias = self.user_bias(inputs[:, 0])         # Bias user\n",
        "        anime_vector = self.anime_embedding(inputs[:, 1]) # Embedding anime\n",
        "        anime_bias = self.anime_bias(inputs[:, 1])       # Bias anime\n",
        "\n",
        "        dot_product = tf.tensordot(user_vector, anime_vector, 2)\n",
        "\n",
        "        # Tambahkan bias user dan anime\n",
        "        x = dot_product + user_bias + anime_bias\n",
        "        # Aktivasi sigmoid untuk mengkompres output ke rentang 0-1\n",
        "        # Ini penting jika rating dinormalisasi ke 0-1.\n",
        "        return tf.nn.sigmoid(x)"
      ],
      "metadata": {
        "id": "4Kk9qnt1s9si"
      },
      "execution_count": null,
      "outputs": []
    },
    {
      "cell_type": "markdown",
      "source": [
        "## Inisialisasi model"
      ],
      "metadata": {
        "id": "CH9iNn28tI6i"
      }
    },
    {
      "cell_type": "code",
      "source": [
        "embedding_size = 50\n",
        "model = RecommenderNet(num_users, num_anime, embedding_size)"
      ],
      "metadata": {
        "id": "an4AhE5GtK0K"
      },
      "execution_count": null,
      "outputs": []
    },
    {
      "cell_type": "markdown",
      "source": [
        "## Compile model"
      ],
      "metadata": {
        "id": "piLdi8IytTCy"
      }
    },
    {
      "cell_type": "code",
      "source": [
        "model.compile(\n",
        "    loss=tf.keras.losses.MeanSquaredError(), # Menggunakan MSE karena ini adalah masalah regresi (prediksi rating)\n",
        "    optimizer=keras.optimizers.Adam(learning_rate=0.001),\n",
        "    metrics=[tf.keras.metrics.RootMeanSquaredError()] # Menggunakan RMSE sebagai metrik evaluasi\n",
        ")\n",
        "\n",
        "print(\"\\n--- Ringkasan Model Matrix Factorization dengan Keras ---\")\n",
        "model.build(input_shape=(None, 2)) # Membangun model untuk melihat ringkasan\n",
        "model.summary()"
      ],
      "metadata": {
        "colab": {
          "base_uri": "https://localhost:8080/",
          "height": 307
        },
        "id": "iS0UMMhKtTLa",
        "outputId": "75fca119-cc5c-4611-cea8-c76e5b6499b5"
      },
      "execution_count": null,
      "outputs": [
        {
          "output_type": "stream",
          "name": "stdout",
          "text": [
            "\n",
            "--- Ringkasan Model Matrix Factorization dengan Keras ---\n"
          ]
        },
        {
          "output_type": "display_data",
          "data": {
            "text/plain": [
              "\u001b[1mModel: \"recommender_net\"\u001b[0m\n"
            ],
            "text/html": [
              "<pre style=\"white-space:pre;overflow-x:auto;line-height:normal;font-family:Menlo,'DejaVu Sans Mono',consolas,'Courier New',monospace\"><span style=\"font-weight: bold\">Model: \"recommender_net\"</span>\n",
              "</pre>\n"
            ]
          },
          "metadata": {}
        },
        {
          "output_type": "display_data",
          "data": {
            "text/plain": [
              "┏━━━━━━━━━━━━━━━━━━━━━━━━━━━━━━━━━┳━━━━━━━━━━━━━━━━━━━━━━━━┳━━━━━━━━━━━━━━━┓\n",
              "┃\u001b[1m \u001b[0m\u001b[1mLayer (type)                   \u001b[0m\u001b[1m \u001b[0m┃\u001b[1m \u001b[0m\u001b[1mOutput Shape          \u001b[0m\u001b[1m \u001b[0m┃\u001b[1m \u001b[0m\u001b[1m      Param #\u001b[0m\u001b[1m \u001b[0m┃\n",
              "┡━━━━━━━━━━━━━━━━━━━━━━━━━━━━━━━━━╇━━━━━━━━━━━━━━━━━━━━━━━━╇━━━━━━━━━━━━━━━┩\n",
              "│ embedding (\u001b[38;5;33mEmbedding\u001b[0m)           │ ?                      │   \u001b[38;5;34m0\u001b[0m (unbuilt) │\n",
              "├─────────────────────────────────┼────────────────────────┼───────────────┤\n",
              "│ embedding_1 (\u001b[38;5;33mEmbedding\u001b[0m)         │ ?                      │   \u001b[38;5;34m0\u001b[0m (unbuilt) │\n",
              "├─────────────────────────────────┼────────────────────────┼───────────────┤\n",
              "│ embedding_2 (\u001b[38;5;33mEmbedding\u001b[0m)         │ ?                      │   \u001b[38;5;34m0\u001b[0m (unbuilt) │\n",
              "├─────────────────────────────────┼────────────────────────┼───────────────┤\n",
              "│ embedding_3 (\u001b[38;5;33mEmbedding\u001b[0m)         │ ?                      │   \u001b[38;5;34m0\u001b[0m (unbuilt) │\n",
              "└─────────────────────────────────┴────────────────────────┴───────────────┘\n"
            ],
            "text/html": [
              "<pre style=\"white-space:pre;overflow-x:auto;line-height:normal;font-family:Menlo,'DejaVu Sans Mono',consolas,'Courier New',monospace\">┏━━━━━━━━━━━━━━━━━━━━━━━━━━━━━━━━━┳━━━━━━━━━━━━━━━━━━━━━━━━┳━━━━━━━━━━━━━━━┓\n",
              "┃<span style=\"font-weight: bold\"> Layer (type)                    </span>┃<span style=\"font-weight: bold\"> Output Shape           </span>┃<span style=\"font-weight: bold\">       Param # </span>┃\n",
              "┡━━━━━━━━━━━━━━━━━━━━━━━━━━━━━━━━━╇━━━━━━━━━━━━━━━━━━━━━━━━╇━━━━━━━━━━━━━━━┩\n",
              "│ embedding (<span style=\"color: #0087ff; text-decoration-color: #0087ff\">Embedding</span>)           │ ?                      │   <span style=\"color: #00af00; text-decoration-color: #00af00\">0</span> (unbuilt) │\n",
              "├─────────────────────────────────┼────────────────────────┼───────────────┤\n",
              "│ embedding_1 (<span style=\"color: #0087ff; text-decoration-color: #0087ff\">Embedding</span>)         │ ?                      │   <span style=\"color: #00af00; text-decoration-color: #00af00\">0</span> (unbuilt) │\n",
              "├─────────────────────────────────┼────────────────────────┼───────────────┤\n",
              "│ embedding_2 (<span style=\"color: #0087ff; text-decoration-color: #0087ff\">Embedding</span>)         │ ?                      │   <span style=\"color: #00af00; text-decoration-color: #00af00\">0</span> (unbuilt) │\n",
              "├─────────────────────────────────┼────────────────────────┼───────────────┤\n",
              "│ embedding_3 (<span style=\"color: #0087ff; text-decoration-color: #0087ff\">Embedding</span>)         │ ?                      │   <span style=\"color: #00af00; text-decoration-color: #00af00\">0</span> (unbuilt) │\n",
              "└─────────────────────────────────┴────────────────────────┴───────────────┘\n",
              "</pre>\n"
            ]
          },
          "metadata": {}
        },
        {
          "output_type": "display_data",
          "data": {
            "text/plain": [
              "\u001b[1m Total params: \u001b[0m\u001b[38;5;34m0\u001b[0m (0.00 B)\n"
            ],
            "text/html": [
              "<pre style=\"white-space:pre;overflow-x:auto;line-height:normal;font-family:Menlo,'DejaVu Sans Mono',consolas,'Courier New',monospace\"><span style=\"font-weight: bold\"> Total params: </span><span style=\"color: #00af00; text-decoration-color: #00af00\">0</span> (0.00 B)\n",
              "</pre>\n"
            ]
          },
          "metadata": {}
        },
        {
          "output_type": "display_data",
          "data": {
            "text/plain": [
              "\u001b[1m Trainable params: \u001b[0m\u001b[38;5;34m0\u001b[0m (0.00 B)\n"
            ],
            "text/html": [
              "<pre style=\"white-space:pre;overflow-x:auto;line-height:normal;font-family:Menlo,'DejaVu Sans Mono',consolas,'Courier New',monospace\"><span style=\"font-weight: bold\"> Trainable params: </span><span style=\"color: #00af00; text-decoration-color: #00af00\">0</span> (0.00 B)\n",
              "</pre>\n"
            ]
          },
          "metadata": {}
        },
        {
          "output_type": "display_data",
          "data": {
            "text/plain": [
              "\u001b[1m Non-trainable params: \u001b[0m\u001b[38;5;34m0\u001b[0m (0.00 B)\n"
            ],
            "text/html": [
              "<pre style=\"white-space:pre;overflow-x:auto;line-height:normal;font-family:Menlo,'DejaVu Sans Mono',consolas,'Courier New',monospace\"><span style=\"font-weight: bold\"> Non-trainable params: </span><span style=\"color: #00af00; text-decoration-color: #00af00\">0</span> (0.00 B)\n",
              "</pre>\n"
            ]
          },
          "metadata": {}
        }
      ]
    },
    {
      "cell_type": "markdown",
      "source": [
        "## Proses Training Model"
      ],
      "metadata": {
        "id": "26m2nWCWtbEK"
      }
    },
    {
      "cell_type": "code",
      "source": [
        "print(\"\\n--- Proses Training Model Collaborative Filtering (Matrix Factorization) ---\")\n",
        "history = model.fit(\n",
        "    x=X_train,\n",
        "    y=y_train,\n",
        "    batch_size=64,\n",
        "    epochs=10, # Jumlah epoch bisa disesuaikan\n",
        "    validation_data=(X_test, y_test),\n",
        "    verbose=1\n",
        ")"
      ],
      "metadata": {
        "colab": {
          "base_uri": "https://localhost:8080/"
        },
        "id": "gmIs2EJCtdOC",
        "outputId": "d767e0cd-8cdd-467c-b13a-eb7c8eb2ce1c"
      },
      "execution_count": null,
      "outputs": [
        {
          "output_type": "stream",
          "name": "stdout",
          "text": [
            "\n",
            "--- Proses Training Model Collaborative Filtering (Matrix Factorization) ---\n",
            "Epoch 1/10\n",
            "\u001b[1m70404/70404\u001b[0m \u001b[32m━━━━━━━━━━━━━━━━━━━━\u001b[0m\u001b[37m\u001b[0m \u001b[1m210s\u001b[0m 3ms/step - loss: 0.0388 - root_mean_squared_error: 0.1773 - val_loss: 0.0538 - val_root_mean_squared_error: 0.1885\n",
            "Epoch 2/10\n",
            "\u001b[1m70404/70404\u001b[0m \u001b[32m━━━━━━━━━━━━━━━━━━━━\u001b[0m\u001b[37m\u001b[0m \u001b[1m262s\u001b[0m 3ms/step - loss: 0.0571 - root_mean_squared_error: 0.1937 - val_loss: 0.0618 - val_root_mean_squared_error: 0.1996\n",
            "Epoch 3/10\n",
            "\u001b[1m70404/70404\u001b[0m \u001b[32m━━━━━━━━━━━━━━━━━━━━\u001b[0m\u001b[37m\u001b[0m \u001b[1m262s\u001b[0m 3ms/step - loss: 0.0642 - root_mean_squared_error: 0.2043 - val_loss: 0.0650 - val_root_mean_squared_error: 0.2044\n",
            "Epoch 4/10\n",
            "\u001b[1m70404/70404\u001b[0m \u001b[32m━━━━━━━━━━━━━━━━━━━━\u001b[0m\u001b[37m\u001b[0m \u001b[1m260s\u001b[0m 3ms/step - loss: 0.0667 - root_mean_squared_error: 0.2082 - val_loss: 0.0656 - val_root_mean_squared_error: 0.2055\n",
            "Epoch 5/10\n",
            "\u001b[1m70404/70404\u001b[0m \u001b[32m━━━━━━━━━━━━━━━━━━━━\u001b[0m\u001b[37m\u001b[0m \u001b[1m207s\u001b[0m 3ms/step - loss: 0.0677 - root_mean_squared_error: 0.2101 - val_loss: 0.0663 - val_root_mean_squared_error: 0.2064\n",
            "Epoch 6/10\n",
            "\u001b[1m70404/70404\u001b[0m \u001b[32m━━━━━━━━━━━━━━━━━━━━\u001b[0m\u001b[37m\u001b[0m \u001b[1m206s\u001b[0m 3ms/step - loss: 0.0682 - root_mean_squared_error: 0.2109 - val_loss: 0.0661 - val_root_mean_squared_error: 0.2060\n",
            "Epoch 7/10\n",
            "\u001b[1m70404/70404\u001b[0m \u001b[32m━━━━━━━━━━━━━━━━━━━━\u001b[0m\u001b[37m\u001b[0m \u001b[1m261s\u001b[0m 3ms/step - loss: 0.0680 - root_mean_squared_error: 0.2104 - val_loss: 0.0666 - val_root_mean_squared_error: 0.2070\n",
            "Epoch 8/10\n",
            "\u001b[1m70404/70404\u001b[0m \u001b[32m━━━━━━━━━━━━━━━━━━━━\u001b[0m\u001b[37m\u001b[0m \u001b[1m263s\u001b[0m 3ms/step - loss: 0.0683 - root_mean_squared_error: 0.2109 - val_loss: 0.0670 - val_root_mean_squared_error: 0.2076\n",
            "Epoch 9/10\n",
            "\u001b[1m70404/70404\u001b[0m \u001b[32m━━━━━━━━━━━━━━━━━━━━\u001b[0m\u001b[37m\u001b[0m \u001b[1m199s\u001b[0m 3ms/step - loss: 0.0686 - root_mean_squared_error: 0.2112 - val_loss: 0.0668 - val_root_mean_squared_error: 0.2072\n",
            "Epoch 10/10\n",
            "\u001b[1m70404/70404\u001b[0m \u001b[32m━━━━━━━━━━━━━━━━━━━━\u001b[0m\u001b[37m\u001b[0m \u001b[1m200s\u001b[0m 3ms/step - loss: 0.0685 - root_mean_squared_error: 0.2111 - val_loss: 0.0673 - val_root_mean_squared_error: 0.2080\n"
          ]
        }
      ]
    },
    {
      "cell_type": "markdown",
      "source": [
        "## Plotting hasil training"
      ],
      "metadata": {
        "id": "WUIIyZwEvAeC"
      }
    },
    {
      "cell_type": "code",
      "source": [
        "plt.figure(figsize=(12, 6))\n",
        "plt.plot(history.history['root_mean_squared_error'], label='Train RMSE')\n",
        "plt.plot(history.history['val_root_mean_squared_error'], label='Validation RMSE')\n",
        "plt.title('RMSE selama Training dan Validasi')\n",
        "plt.xlabel('Epoch')\n",
        "plt.ylabel('RMSE')\n",
        "plt.legend()\n",
        "plt.grid(True)\n",
        "plt.show()"
      ],
      "metadata": {
        "colab": {
          "base_uri": "https://localhost:8080/",
          "height": 564
        },
        "id": "xrmGy0TBvCut",
        "outputId": "bc9ee93c-4d26-451c-d2dc-cb37ab8a19dc"
      },
      "execution_count": null,
      "outputs": [
        {
          "output_type": "display_data",
          "data": {
            "text/plain": [
              "<Figure size 1200x600 with 1 Axes>"
            ],
            "image/png": "[encoded data removed]"
          },
          "metadata": {}
        }
      ]
    },
    {
      "cell_type": "markdown",
      "source": [
        "## Evaluasi Model"
      ],
      "metadata": {
        "id": "Tg91Ys7n35Gv"
      }
    },
    {
      "cell_type": "markdown",
      "source": [
        "Evaluasi model Collaborative Filtering dengan TensorFlow dilakukan dengan\n",
        "mengukur seberapa akurat model memprediksi rating pada data testing.\n",
        "Metrik utama yang digunakan adalah RMSE (Root Mean Squared Error)."
      ],
      "metadata": {
        "id": "sEnIJc2038YP"
      }
    },
    {
      "cell_type": "code",
      "source": [
        "print(\"\\n--- Evaluasi Model Collaborative Filtering ---\")\n",
        "loss, rmse = model.evaluate(X_test, y_test, verbose=0)\n",
        "print(f\"Loss pada data test: {loss:.4f}\")\n",
        "print(f\"RMSE pada data test: {rmse:.4f}\")\n",
        "\n",
        "# RMSE yang diperoleh adalah dalam skala rating yang dinormalisasi (0-1).\n",
        "# Untuk menginterpretasikan RMSE dalam skala rating asli (1-10), kita perlu mengalikannya kembali\n",
        "# dengan rentang rating asli (max_rating - min_rating).\n",
        "original_rmse = rmse * (max_rating - min_rating)\n",
        "print(f\"RMSE pada skala rating asli (1-10): {original_rmse:.4f}\")\n",
        "\n",
        "# Fungsi Rekomendasi Setelah Model Dilatih\n",
        "def recommend_for_user(user_id, num_recommendations=10):\n",
        "    \"\"\"\n",
        "    Memberikan rekomendasi anime untuk user tertentu menggunakan model Matrix Factorization.\n",
        "\n",
        "    Args:\n",
        "        user_id (int): ID pengguna.\n",
        "        num_recommendations (int): Jumlah rekomendasi yang diinginkan.\n",
        "\n",
        "    Returns:\n",
        "        pd.DataFrame: DataFrame berisi nama anime yang direkomendasikan beserta rating prediksi.\n",
        "    \"\"\"\n",
        "    # Pastikan user_id ada dalam mapper\n",
        "    if user_id not in user_to_idx:\n",
        "        print(f\"User ID {user_id} tidak ditemukan dalam dataset yang difilter.\")\n",
        "        return pd.DataFrame()\n",
        "\n",
        "    user_encoded = user_to_idx[user_id]\n",
        "\n",
        "    # Dapatkan semua anime yang belum pernah dinilai oleh user ini\n",
        "    rated_anime_ids = merged_data_cf_tf[merged_data_cf_tf['user_id'] == user_id]['anime_id'].tolist()\n",
        "    all_anime_in_model_ids = list(anime_to_idx.keys()) # Semua anime_id yang ada di model\n",
        "\n",
        "    unrated_anime_ids = [anime_id for anime_id in all_anime_in_model_ids if anime_id not in rated_anime_ids]\n",
        "\n",
        "    if not unrated_anime_ids:\n",
        "        print(f\"User ID {user_id} telah menilai semua anime yang tersedia di model.\")\n",
        "        return pd.DataFrame()\n",
        "\n",
        "    # Buat input untuk prediksi\n",
        "    user_input = np.array([user_encoded] * len(unrated_anime_ids))\n",
        "    anime_input = np.array([anime_to_idx[aid] for aid in unrated_anime_ids])\n",
        "\n",
        "    # Stack user_input and anime_input into a single array\n",
        "    model_input = np.stack([user_input, anime_input], axis=1)\n",
        "\n",
        "    # Pass the single stacked array to model.predict()\n",
        "    predictions = model.predict(model_input).flatten()\n",
        "\n",
        "    # Ubah prediksi kembali ke skala rating asli\n",
        "    predictions_original_scale = predictions * (max_rating - min_rating) + min_rating\n",
        "\n",
        "    # Gabungkan prediksi dengan informasi anime\n",
        "    recommended_anime_list = []\n",
        "    for i, anime_id in enumerate(unrated_anime_ids):\n",
        "        # Dapatkan informasi anime dari dataset 'anime' asli\n",
        "        info = anime[anime['anime_id'] == anime_id].iloc[0]\n",
        "        recommended_anime_list.append({\n",
        "            'anime_id': anime_id,\n",
        "            'name': info['name'],\n",
        "            'genre': info['genre'],\n",
        "            'type': info['type'],\n",
        "            'predicted_rating': predictions_original_scale[i]\n",
        "        })\n",
        "\n",
        "    recommended_df = pd.DataFrame(recommended_anime_list)\n",
        "    recommended_df = recommended_df.sort_values(by='predicted_rating', ascending=False)\n",
        "    return recommended_df.head(num_recommendations)"
      ],
      "metadata": {
        "colab": {
          "base_uri": "https://localhost:8080/"
        },
        "id": "sodUERqQ4HfX",
        "outputId": "1a1f64a7-3416-48e5-d442-22367bd6e2ab"
      },
      "execution_count": null,
      "outputs": [
        {
          "output_type": "stream",
          "name": "stdout",
          "text": [
            "\n",
            "--- Evaluasi Model Collaborative Filtering ---\n",
            "Loss pada data test: 0.0595\n",
            "RMSE pada data test: 0.1882\n",
            "RMSE pada skala rating asli (1-10): 1.6942\n"
          ]
        }
      ]
    },
    {
      "cell_type": "code",
      "source": [
        "print(\"\\n--- Demonstrasi Rekomendasi Collaborative Filtering (TensorFlow) ---\")\n",
        "# Pilih user_id dari user yang ada di merged_data_cf_tf\n",
        "example_user_id = merged_data_cf_tf['user_id'].iloc[0] # Ambil user_id pertama dari data yang sudah difilter\n",
        "print(f\"Rekomendasi untuk User ID: {example_user_id}\")\n",
        "recommended_anime_tf = recommend_for_user(example_user_id, 10)\n",
        "print(recommended_anime_tf)\n",
        "\n",
        "print(f\"\\nRekomendasi untuk User ID: {merged_data_cf_tf['user_id'].iloc[150]}\")\n",
        "recommended_anime_tf_2 = recommend_for_user(merged_data_cf_tf['user_id'].iloc[150], 10)\n",
        "print(recommended_anime_tf_2)"
      ],
      "metadata": {
        "colab": {
          "base_uri": "https://localhost:8080/"
        },
        "id": "An1clce04jjP",
        "outputId": "88b38bea-606b-429e-9d25-49dc482af522"
      },
      "execution_count": null,
      "outputs": [
        {
          "output_type": "stream",
          "name": "stdout",
          "text": [
            "\n",
            "--- Demonstrasi Rekomendasi Collaborative Filtering (TensorFlow) ---\n",
            "Rekomendasi untuk User ID: 3\n",
            "\u001b[1m158/158\u001b[0m \u001b[32m━━━━━━━━━━━━━━━━━━━━\u001b[0m\u001b[37m\u001b[0m \u001b[1m1s\u001b[0m 3ms/step\n",
            "      anime_id                                name  \\\n",
            "2153       820                Ginga Eiyuu Densetsu   \n",
            "1217     28977                            Gintama°   \n",
            "491      11061              Hunter x Hunter (2011)   \n",
            "462       4181                Clannad: After Story   \n",
            "283      15417            Gintama&#039;: Enchousen   \n",
            "73         918                             Gintama   \n",
            "443       1575     Code Geass: Hangyaku no Lelouch   \n",
            "454       2904  Code Geass: Hangyaku no Lelouch R2   \n",
            "729      17074    Monogatari Series: Second Season   \n",
            "1320     24701       Mushishi Zoku Shou 2nd Season   \n",
            "\n",
            "                                                  genre type  predicted_rating  \n",
            "2153                     Drama, Military, Sci-Fi, Space  OVA          9.883978  \n",
            "1217  Action, Comedy, Historical, Parody, Samurai, S...   TV          9.841286  \n",
            "491             Action, Adventure, Shounen, Super Power   TV          9.817928  \n",
            "462   Drama, Fantasy, Romance, Slice of Life, Supern...   TV          9.813111  \n",
            "283   Action, Comedy, Historical, Parody, Samurai, S...   TV          9.786941  \n",
            "73    Action, Comedy, Historical, Parody, Samurai, S...   TV          9.776947  \n",
            "443   Action, Mecha, Military, School, Sci-Fi, Super...   TV          9.768796  \n",
            "454   Action, Drama, Mecha, Military, Sci-Fi, Super ...   TV          9.758965  \n",
            "729     Comedy, Mystery, Romance, Supernatural, Vampire   TV          9.757915  \n",
            "1320  Adventure, Fantasy, Historical, Mystery, Seine...   TV          9.756355  \n",
            "\n",
            "Rekomendasi untuk User ID: 5\n",
            "\u001b[1m147/147\u001b[0m \u001b[32m━━━━━━━━━━━━━━━━━━━━\u001b[0m\u001b[37m\u001b[0m \u001b[1m0s\u001b[0m 2ms/step\n",
            "      anime_id                                  name  \\\n",
            "774      13125                        Shinsekai yori   \n",
            "13        5114      Fullmetal Alchemist: Brotherhood   \n",
            "853      28977                              Gintama°   \n",
            "1229       267                              Gungrave   \n",
            "127      11061                Hunter x Hunter (2011)   \n",
            "365      17074      Monogatari Series: Second Season   \n",
            "1244        81  Mobile Suit Gundam: The 08th MS Team   \n",
            "372         19                               Monster   \n",
            "98        4181                  Clannad: After Story   \n",
            "1559     31181                       Owarimonogatari   \n",
            "\n",
            "                                                  genre type  predicted_rating  \n",
            "774        Drama, Horror, Mystery, Sci-Fi, Supernatural   TV          9.045642  \n",
            "13    Action, Adventure, Drama, Fantasy, Magic, Mili...   TV          8.966074  \n",
            "853   Action, Comedy, Historical, Parody, Samurai, S...   TV          8.803638  \n",
            "1229         Action, Drama, Sci-Fi, Seinen, Super Power   TV          8.624421  \n",
            "127             Action, Adventure, Shounen, Super Power   TV          8.593192  \n",
            "365     Comedy, Mystery, Romance, Supernatural, Vampire   TV          8.465378  \n",
            "1244  Adventure, Drama, Mecha, Military, Romance, Sc...  OVA          8.461169  \n",
            "372   Drama, Horror, Mystery, Police, Psychological,...   TV          8.461168  \n",
            "98    Drama, Fantasy, Romance, Slice of Life, Supern...   TV          8.436505  \n",
            "1559                      Comedy, Mystery, Supernatural   TV          8.411389  \n"
          ]
        }
      ]
    },
    {
      "cell_type": "markdown",
      "source": [
        "# Perbandingan dan Pemilihan Solusi"
      ],
      "metadata": {
        "id": "Bf1qkwvP5RDv"
      }
    },
    {
      "cell_type": "markdown",
      "source": [
        "Memilih antara Content-Based Filtering dan Collaborative Filtering tergantung pada\n",
        "karakteristik data dan tujuan rekomendasi.\n",
        "\n",
        "**Content-Based Filtering:**\n",
        "-   **Cocok untuk:** Cold-start problem bagi pengguna baru (karena tidak butuh riwayat interaksi).\n",
        "    Mampu merekomendasikan item yang belum pernah diberi rating.\n",
        "-   **Kelebihan:** Penjelasan rekomendasi mudah, tidak ada masalah cold-start user.\n",
        "-   **Kekurangan:** Kurang eksploratif, hanya merekomendasikan item yang mirip, butuh fitur item yang kaya.\n",
        "\n",
        "**Collaborative Filtering (dengan TensorFlow/Matrix Factorization):**\n",
        "-   **Cocok untuk:** Menemukan pola tersembunyi dalam interaksi pengguna. Mampu merekomendasikan item yang tidak mirip dengan yang sudah dikenal user.\n",
        "-   **Kelebihan:** Lebih eksploratif (serendipity), tidak butuh fitur item eksplisit (cukup ID user dan item), dapat menangani jumlah data yang besar dengan efisien.\n",
        "-   **Kekurangan:** Masalah cold-start user dan item (membutuhkan riwayat interaksi yang cukup), sparsity data dapat menjadi tantangan.\n",
        "\n",
        "**Solusi Permasalahan:**\n",
        "Untuk sistem rekomendasi anime, kombinasi kedua pendekatan (Hybrid Recommender System) seringkali merupakan solusi terbaik untuk mengatasi kelemahan masing-masing.\n",
        "\n",
        "-   **Jika fokus adalah merekomendasikan anime berdasarkan genre atau deskripsi:** Content-Based Filtering sangat relevan.\n",
        "-   **Jika fokus adalah menemukan anime yang disukai oleh \"orang seperti Anda\" atau anime yang \"mirip\" berdasarkan pola tontonan:** Collaborative Filtering lebih tepat.\n",
        "\n",
        "Dengan implementasi Matrix Factorization menggunakan TensorFlow, kita mendapatkan model Collaborative Filtering\n",
        "yang scalable dan dapat belajar representasi (embedding) user dan anime secara otomatis dari data interaksi.\n",
        "Ini adalah pendekatan yang kuat untuk sistem rekomendasi modern.\n",
        "\n",
        "\n",
        "**Kesimpulan Akhir:**\n",
        "Mengingat tujuan proyek untuk membuat sistem rekomendasi, kedua pendekatan memiliki keunggulan masing-masing.\n",
        "Untuk sistem yang robust dan komprehensif, disarankan untuk mengimplementasikan **Hybrid Recommender System**\n",
        "yang menggabungkan kekuatan Content-Based Filtering (untuk mengatasi cold-start item dan transparansi rekomendasi)\n",
        "dan Collaborative Filtering (untuk serendipity dan menangkap pola kompleks interaksi).\n",
        "\n",
        "Namun, jika harus memilih satu pendekatan untuk efektivitas dan skalabilitas pada data interaksi yang besar,\n",
        "**Collaborative Filtering dengan Matrix Factorization (TensorFlow)** adalah pilihan yang sangat kuat.\n",
        "Ini mampu mempelajari preferensi tersembunyi dan menghasilkan rekomendasi yang personal."
      ],
      "metadata": {
        "id": "iMdr_AAC5b4P"
      }
    }
  ]
}